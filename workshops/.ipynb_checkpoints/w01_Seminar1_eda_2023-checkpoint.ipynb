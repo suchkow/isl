{
 "cells": [
  {
   "cell_type": "markdown",
   "metadata": {
    "_cell_guid": "7fc6d89d-18bf-06ba-dd5f-8b1e1121d8d7",
    "id": "OUvtWXZnM5iS"
   },
   "source": [
    "# Exploratory data analysis (EDA)"
   ]
  },
  {
   "cell_type": "markdown",
   "metadata": {
    "id": "kPMhKgauV7nV"
   },
   "source": [
    "Exploratory Data Analysis (EDA) is the initial step in the data analysis process which is needed to summarize data sets main characteristics: gain insights into the data, understand its structure, identify patterns, and generate hypotheses for further analysis."
   ]
  },
  {
   "cell_type": "markdown",
   "metadata": {
    "_cell_guid": "b798f43a-6e4d-c060-9732-8c495f4b53fd",
    "id": "kZ6WL_jfM5iZ"
   },
   "source": [
    "\n",
    "\n",
    "<img src=\"http://sharpsightlabs.com/wp-content/uploads/2016/05/1_data-analysis-for-ML_how-we-use-dataAnalysis_2016-05-16.png\" />"
   ]
  },
  {
   "cell_type": "markdown",
   "metadata": {
    "_cell_guid": "204901e5-78e0-2364-a9a4-f2d1515bb351",
    "id": "Mze4CvsUM5id"
   },
   "source": [
    "## Preparations"
   ]
  },
  {
   "cell_type": "markdown",
   "metadata": {
    "_cell_guid": "a9316ec9-299c-f7d5-179b-8fb7d9bfa02e",
    "id": "zWUkCQ0XM5ih"
   },
   "source": [
    "First let's import the libraries we are going to use. Note that the `np`, `pd`, `sns`, `plt` shorthands are established conventions."
   ]
  },
  {
   "cell_type": "code",
   "execution_count": null,
   "metadata": {
    "_cell_guid": "0fa020c4-a7df-64a7-2d8e-4e1081657ba6",
    "id": "LDI3TdSyM5im"
   },
   "outputs": [],
   "source": [
    "import numpy as np  # for fast math and specifically linear algebra operations\n",
    "import pandas as pd  # Like Excel but in Python\n",
    "import seaborn as sns  # for easy plotting\n",
    "import matplotlib.pyplot as plt  # for lower-level plotting\n",
    "\n",
    "# Keeps plots inside jupyter notebooks, possible to use interactive mode for example\n",
    "%matplotlib inline\n",
    "\n",
    "sns.set()  # Use the seaborn default style, which is quite good"
   ]
  },
  {
   "cell_type": "markdown",
   "metadata": {
    "id": "3CPYwxdfSi_2"
   },
   "source": [
    "Download the [dataset](https://www.kaggle.com/c/house-prices-advanced-regression-techniques/data)"
   ]
  },
  {
   "cell_type": "code",
   "execution_count": null,
   "metadata": {
    "id": "kLmAJ7yUR2K5"
   },
   "outputs": [],
   "source": [
    "!wget -q -O house-pricing-train.csv https://drive.google.com/u/0/uc?id=1NdAQ-DhI7bSBtu1C-GNiTERIW-5CHDwg&export=download"
   ]
  },
  {
   "cell_type": "code",
   "execution_count": null,
   "metadata": {
    "id": "4tg6QzEBPj-G"
   },
   "outputs": [],
   "source": [
    "df = pd.read_csv('house-pricing-train.csv')\n",
    "df.head()"
   ]
  },
  {
   "cell_type": "code",
   "execution_count": null,
   "metadata": {
    "id": "-MFCgjf5TR8O"
   },
   "outputs": [],
   "source": [
    "df.shape"
   ]
  },
  {
   "cell_type": "code",
   "execution_count": null,
   "metadata": {
    "_cell_guid": "6cb8d195-6e2e-8473-71b9-67f792023e1f",
    "id": "MzepNHC0M5jI"
   },
   "outputs": [],
   "source": [
    "df.info()"
   ]
  },
  {
   "cell_type": "markdown",
   "metadata": {
    "id": "7oUYYwHqS36e"
   },
   "source": [
    "## Are there any features with too many missing values?\n",
    "\n",
    "How would you define \"too many\"?\n",
    "\n",
    "**Bonus:** check the dataset description and find out if a missing value is a legitimate value for some features. Perhaps you can just substitute it with something for some columns to make it usable?\n",
    "\n",
    "Write code below to drop features with too many missing values."
   ]
  },
  {
   "cell_type": "code",
   "execution_count": null,
   "metadata": {
    "id": "3x2c97C4TJkS"
   },
   "outputs": [],
   "source": [
    "columns_to_drop = # Write code here to get columns with too many missing values\n",
    "df.drop(columns=columns_to_drop, inplace=True)\n",
    "df.shape"
   ]
  },
  {
   "cell_type": "markdown",
   "metadata": {
    "_cell_guid": "c88a0dfc-8b3f-5fea-f5c7-8495b50830e1",
    "id": "QzjjAE4PM5jp"
   },
   "source": [
    "## How is the target value distributed?\n",
    "\n",
    "The target values is `SalePrice`.\n",
    "\n",
    "Does it have missing values?\n",
    "\n",
    "How is it distributed?\n",
    "\n",
    "Are there any outliers?\n",
    "\n",
    "Plot a distribution plot (a histogram) to answer these questions.\n",
    "*Hint:* consider reading up on `sns.histplot` or `pd.DataFrame.hist`"
   ]
  },
  {
   "cell_type": "code",
   "execution_count": null,
   "metadata": {
    "_cell_guid": "9288917d-cae2-86d0-18a0-0987fb9a8b10",
    "id": "4ZQ28H67M5js"
   },
   "outputs": [],
   "source": [
    "print(df['SalePrice'].describe())\n",
    "plt.figure(figsize=(9, 8))\n",
    "sns.histplot(df.SalePrice)\n",
    "plt.show()"
   ]
  },
  {
   "cell_type": "markdown",
   "metadata": {
    "_cell_guid": "83e583ac-1877-eb53-0e07-5eb1a965b183",
    "id": "2TsU0G86M5j_"
   },
   "source": [
    "## Numerical data distribution"
   ]
  },
  {
   "cell_type": "markdown",
   "metadata": {
    "_cell_guid": "86fb271a-7b00-f4b5-9a6c-693751a61a1b",
    "id": "Bj2hO1YqM5kD"
   },
   "source": [
    "For this part let's look at the distribution of all of the features by ploting them."
   ]
  },
  {
   "cell_type": "markdown",
   "metadata": {
    "_cell_guid": "87eec229-e9eb-fb43-7b20-36fdcd4c892c",
    "id": "nkWvYWSUM5kG"
   },
   "source": [
    "To do so let's first list all the types of our data from our dataset and take only the numerical ones:"
   ]
  },
  {
   "cell_type": "code",
   "execution_count": null,
   "metadata": {
    "_cell_guid": "c910aa1d-5cfc-ab87-edf1-f0184d5dce28",
    "id": "sMH4B9KIM5kJ"
   },
   "outputs": [],
   "source": [
    "list(set(df.dtypes.tolist()))"
   ]
  },
  {
   "cell_type": "code",
   "execution_count": null,
   "metadata": {
    "_cell_guid": "490c9cbc-24c3-9ccc-f650-7dc1036be837",
    "id": "vgCUPhYCM5kW"
   },
   "outputs": [],
   "source": [
    "df_num = df.select_dtypes(include = ['float64', 'int64'])\n",
    "df_num.head()"
   ]
  },
  {
   "cell_type": "markdown",
   "metadata": {
    "_cell_guid": "871ae576-af93-0ea4-34aa-37794b6eaac0",
    "id": "YXcpGt98M5kj"
   },
   "source": [
    "Now let's plot them all:"
   ]
  },
  {
   "cell_type": "code",
   "execution_count": null,
   "metadata": {
    "_cell_guid": "bc7e47dc-f37f-5d5d-e65c-958ff50e8e35",
    "id": "7n7xVgjzM5kl"
   },
   "outputs": [],
   "source": [
    "df_num.hist(figsize=(16, 20), bins=50, xlabelsize=8, ylabelsize=8);  # ; avoid having the matplotlib verbose informations"
   ]
  },
  {
   "cell_type": "markdown",
   "metadata": {
    "_cell_guid": "85abc244-1c9f-00ec-771d-8ea876514bd0",
    "id": "MSk1objQM5ky"
   },
   "source": [
    "Are there any features with a similar distribution to the target variable?"
   ]
  },
  {
   "cell_type": "markdown",
   "metadata": {
    "_cell_guid": "ba5574c9-07ab-8cf1-6e3c-6ac42716bcb9",
    "id": "Qj9jgQ6cM5k_"
   },
   "source": [
    "#### Correlation"
   ]
  },
  {
   "cell_type": "markdown",
   "metadata": {
    "_cell_guid": "2f94a98f-9d81-4908-97d2-d504ddc6b665",
    "id": "Js2gWmhBM5lD"
   },
   "source": [
    "Now we'll try to find which features are strongly correlated with `SalePrice`. We'll store them in a var called `golden_features_list`. We'll reuse our `df_num` dataset to do so."
   ]
  },
  {
   "cell_type": "code",
   "execution_count": null,
   "metadata": {
    "id": "utK-STuwU-MM"
   },
   "outputs": [],
   "source": [
    "df_num_corr = df_num.corr()  # obtain the correlation matrix\n",
    "df_num_corr = df_num_corr['SalePrice'][:-1]  # select only correlations with SalePrice, excluding SalePrice itself\n",
    "df_num_corr[:10]"
   ]
  },
  {
   "cell_type": "markdown",
   "metadata": {
    "id": "Izy0JHzIVS6u"
   },
   "source": [
    "In the cell below, obtain all features with a strong correlation with `SalePrice` (`>= 0.5`).\n",
    "*Hint:* Negatively correlated features can also be used for predicting `SalePrice`!"
   ]
  },
  {
   "cell_type": "code",
   "execution_count": null,
   "metadata": {
    "_cell_guid": "12874dd5-63b6-8e28-c1b6-7bc3266852d2",
    "id": "zGax9A_MM5lH"
   },
   "outputs": [],
   "source": [
    "golden_features_list = # Your code here\n",
    "print(f\"There is {len(golden_features_list)} strongly correlated values with SalePrice:\\n{golden_features_list}\")"
   ]
  },
  {
   "cell_type": "markdown",
   "metadata": {
    "_cell_guid": "10869d93-474e-a621-6ff6-48b123f31199",
    "id": "vplXmOdyM5le"
   },
   "source": [
    "Perfect, we now have a list of strongly correlated values but this list is incomplete as we know that correlation is affected by outliers. So we could proceed as follow:\n",
    "\n",
    "- Plot the numerical features and see which ones have very few or explainable outliers\n",
    "- Remove the outliers from these features and see which one can have a good correlation without their outliers\n",
    "    \n",
    "\n",
    "Correlation by itself does not always explain the relationships in data. Why?\n",
    "\n",
    "Let's plot numeric features against `SalePrice` to visually inspect them."
   ]
  },
  {
   "cell_type": "code",
   "execution_count": null,
   "metadata": {
    "_cell_guid": "67f05894-8838-fb45-4212-5c35c6b0eea2",
    "id": "R1BwVgx0M5lh"
   },
   "outputs": [],
   "source": [
    "for i in range(0, len(df_num.columns), 5):\n",
    "    sns.pairplot(data=df_num,\n",
    "                x_vars=df_num.columns[i:i+5],\n",
    "                y_vars=['SalePrice'])"
   ]
  },
  {
   "cell_type": "markdown",
   "metadata": {
    "_cell_guid": "e0d7e88f-fa26-4e56-157d-148efe35d233",
    "id": "kPfvf496M5lw"
   },
   "source": [
    "We can clearly identify some relationships. Most of them seem to have a linear relationship with the `SalePrice` and if we look closely at the data we can see that a lot of data points are located on `x = 0` which may indicate the absence of such feature in the house.\n",
    "\n",
    "Take `OpenPorchSF` (3d line from the end), I doubt that all houses have a porch (mine doesn't for instance but I don't lose hope that one day... yeah one day...)."
   ]
  },
  {
   "cell_type": "markdown",
   "metadata": {
    "_cell_guid": "09af3f09-fcb1-fab7-1b8b-0577a80fbb6b",
    "id": "4gZo-QA2M5lz"
   },
   "source": [
    "Bonus: remove these `0` values and repeat the process of finding correlated values."
   ]
  },
  {
   "cell_type": "markdown",
   "metadata": {
    "id": "KzvqGyB8YBo7"
   },
   "source": [
    "## Categorical features"
   ]
  },
  {
   "cell_type": "markdown",
   "metadata": {
    "id": "8As-mMWGYMk-"
   },
   "source": [
    "Let's select some categorical features. Note that not all features that are categorical have a string data type (`'O'` for object in numpy/pandas terminology),"
   ]
  },
  {
   "cell_type": "code",
   "execution_count": null,
   "metadata": {
    "id": "0CQDeaQ2YGP7"
   },
   "outputs": [],
   "source": [
    "df_cat = df.select_dtypes(include = ['O'])\n",
    "df_cat.head()"
   ]
  },
  {
   "cell_type": "markdown",
   "metadata": {
    "id": "DrkKyqkbYaTo"
   },
   "source": [
    "Now let's plot the distribution for SalePrices conditioned on a categorical feature value."
   ]
  },
  {
   "cell_type": "code",
   "execution_count": null,
   "metadata": {
    "id": "mdWEVwTwYfpy"
   },
   "outputs": [],
   "source": [
    "plt.figure(figsize=(10, 7))\n",
    "sns.histplot(data=df, x=\"SalePrice\", hue=\"KitchenQual\", kde=True, stat=\"density\", common_bins=False, common_norm=False);"
   ]
  },
  {
   "cell_type": "markdown",
   "metadata": {
    "id": "lfcYpXJHb-Qn"
   },
   "source": [
    "**In the following cell plot a bar chart to inspect the count each value of   `KitchenQual`**"
   ]
  },
  {
   "cell_type": "code",
   "execution_count": null,
   "metadata": {
    "id": "IVskt2eQcKSE"
   },
   "outputs": [],
   "source": [
    "# Your code here"
   ]
  },
  {
   "cell_type": "markdown",
   "metadata": {
    "id": "N64LqxQXZyf2"
   },
   "source": [
    "It's evident that houses with different kitchens have very different price distributions.\n"
   ]
  },
  {
   "cell_type": "markdown",
   "metadata": {
    "id": "9Fei793paeAd"
   },
   "source": [
    "**How would you visualize the relationship between two categorical features?**"
   ]
  },
  {
   "cell_type": "markdown",
   "metadata": {
    "id": "w8zRQ2U0aS-_"
   },
   "source": [
    "**Find a variable that correponds to the ordinal type (rank of some kind) and visualize its relationship with `SalePrice`**"
   ]
  },
  {
   "cell_type": "markdown",
   "metadata": {
    "_cell_guid": "394c231a-cf71-ada2-70be-bee2964d35b1",
    "id": "cixyXv8OM5ml"
   },
   "source": [
    "## Feature to feature relationship"
   ]
  },
  {
   "cell_type": "markdown",
   "metadata": {
    "_cell_guid": "5a7790d9-cd36-7bc7-8480-69a7893ff73c",
    "id": "CeFVrxceM5mn"
   },
   "source": [
    "Trying to plot all the numerical features in a seaborn pairplot will take us too much time and will be hard to interpret. We can try to see if some variables are linked between each other and then explain their relation with common sense."
   ]
  },
  {
   "cell_type": "code",
   "execution_count": null,
   "metadata": {
    "_cell_guid": "b968863f-a353-663e-228e-cb6983ad0816",
    "id": "ADdG-g1kM5ms"
   },
   "outputs": [],
   "source": [
    "corr = df_num.drop('SalePrice', axis=1).corr()  # We already examined SalePrice correlations\n",
    "plt.figure(figsize=(12, 10))\n",
    "\n",
    "sns.heatmap(corr[(corr >= 0.5) | (corr <= -0.4)],\n",
    "            cmap='viridis', vmax=1.0, vmin=-1.0, linewidths=0.1,\n",
    "            annot=True, annot_kws={\"size\": 8}, square=True);"
   ]
  },
  {
   "cell_type": "markdown",
   "metadata": {
    "_cell_guid": "ecc3400d-1a3a-eac8-d250-428763142b4d",
    "id": "4iOPb96aM5m8"
   },
   "source": [
    "A lot of features seems to be correlated between each other but some of them such as `YearBuild`/`GarageYrBlt` may just indicate a price inflation over the years. As for `1stFlrSF`/`TotalBsmtSF`, it is normal that the more the 1st floor is large (considering many houses have only 1 floor), the more the total basement will be large."
   ]
  },
  {
   "cell_type": "markdown",
   "metadata": {
    "id": "dxLbksGpcdhD"
   },
   "source": [
    "# Drawing conclusions"
   ]
  },
  {
   "cell_type": "markdown",
   "metadata": {
    "id": "PWLAmRJ5ckBV"
   },
   "source": [
    "Based on the analysis up to this point, answer the following questions.\n",
    "\n",
    "* What insights can we draw from the data about house pricing?\n",
    "* Which features are definitely going to be useful for modelling house pricing?\n",
    "* What features should we exclude or combine with features when making a predictive model?\n",
    "* Were there any counter-intuitive findings?\n",
    "* What findings remain unexplained?"
   ]
  },
  {
   "cell_type": "markdown",
   "metadata": {
    "id": "BQNfsF09cgs9"
   },
   "source": [
    "# Additional analysis"
   ]
  },
  {
   "cell_type": "markdown",
   "metadata": {
    "_cell_guid": "2d5540d9-be46-dccd-8d27-2d7c48e921ea",
    "id": "zGdHgde1M5nD"
   },
   "source": [
    "## Q -> Q (Quantitative to Quantitative relationship)"
   ]
  },
  {
   "cell_type": "markdown",
   "metadata": {
    "_cell_guid": "6f52f588-f8fb-241f-9ad6-243692a95c68",
    "id": "xREsrra_M5nG"
   },
   "source": [
    "Let's now examine the quantitative features of our dataframe and how they relate to the `SalePrice` which is also quantitative (hence the relation Q -> Q)."
   ]
  },
  {
   "cell_type": "markdown",
   "metadata": {
    "_cell_guid": "5aa17baa-e6b6-3f4f-1cb7-dbc6c001acc5",
    "id": "ryhl5pg3M5nK"
   },
   "source": [
    "Some of the features of our dataset are categorical. To separate the categorical from quantitative features let's refer ourselves to the `data_description.txt` file. According to this file we end up with the folowing columns:"
   ]
  },
  {
   "cell_type": "code",
   "execution_count": null,
   "metadata": {
    "_cell_guid": "615d1522-d6e3-2298-619f-9d30fb812866",
    "id": "pJsbbaxoM5nN"
   },
   "outputs": [],
   "source": [
    "quantitative_features_list = ['LotFrontage', 'LotArea', 'MasVnrArea', 'BsmtFinSF1', 'BsmtFinSF2', 'TotalBsmtSF', '1stFlrSF',\n",
    "    '2ndFlrSF', 'LowQualFinSF', 'GrLivArea', 'BsmtFullBath', 'BsmtHalfBath', 'FullBath', 'HalfBath',\n",
    "    'BedroomAbvGr', 'KitchenAbvGr', 'TotRmsAbvGrd', 'Fireplaces', 'GarageCars', 'GarageArea', 'WoodDeckSF', 'OpenPorchSF',\n",
    "    'EnclosedPorch', '3SsnPorch', 'ScreenPorch', 'PoolArea', 'MiscVal', 'SalePrice']\n",
    "df_quantitative_values = df[quantitative_features_list]\n",
    "df_quantitative_values.head()"
   ]
  },
  {
   "cell_type": "markdown",
   "metadata": {
    "_cell_guid": "ce42fc1c-4f04-85d2-76b7-db052a8b00f9",
    "id": "3gy_kHGIM5nf"
   },
   "source": [
    "Still, we have a lot of features to analyse here so let's take the *strongly correlated quantitative* features from this dataset and analyse them one by one"
   ]
  },
  {
   "cell_type": "code",
   "execution_count": null,
   "metadata": {
    "_cell_guid": "94b4593c-4d38-f631-0773-8e66fa9ec57b",
    "id": "uVR1VNwKM5ni"
   },
   "outputs": [],
   "source": [
    "features_to_analyse = [x for x in quantitative_features_list if x in golden_features_list]\n",
    "features_to_analyse.append('SalePrice')\n",
    "features_to_analyse"
   ]
  },
  {
   "cell_type": "markdown",
   "metadata": {
    "_cell_guid": "840f1315-d23e-feb9-2b27-04355fd68e81",
    "id": "0tF40MF3M5nz"
   },
   "source": [
    "Let's look at their distribution."
   ]
  },
  {
   "cell_type": "code",
   "execution_count": null,
   "metadata": {
    "_cell_guid": "d05b1216-6722-bfdb-5267-f0f8faee8c42",
    "id": "ECZhzT-3M5n3"
   },
   "outputs": [],
   "source": [
    "fig, ax = plt.subplots(round(len(features_to_analyse) / 3), 3, figsize = (18, 12))\n",
    "\n",
    "for i, ax in enumerate(fig.axes):\n",
    "    if i < len(features_to_analyse) - 1:\n",
    "        sns.regplot(x=features_to_analyse[i],y='SalePrice', data=df[features_to_analyse], ax=ax)"
   ]
  },
  {
   "cell_type": "markdown",
   "metadata": {
    "_cell_guid": "08517787-6e38-ac55-74ae-c2387cfde77c",
    "id": "xFmAeuicM5oM"
   },
   "source": [
    "## C -> Q (Categorical to Quantitative relationship)"
   ]
  },
  {
   "cell_type": "markdown",
   "metadata": {
    "_cell_guid": "68cc8c9e-f211-f2e8-d305-ccee476f76a8",
    "id": "fz6WyjbWM5oP"
   },
   "source": [
    "Let's get all the categorical features of our dataset and see if we can find some insight in them.\n",
    "Instead of opening back our `data_description.txt` file and checking which data are categorical, let's just remove `quantitative_features_list` from our entire dataframe."
   ]
  },
  {
   "cell_type": "code",
   "execution_count": null,
   "metadata": {
    "_cell_guid": "df0eccd8-1227-6ca5-3458-b6ac9b02e337",
    "id": "jhWZxnfoM5oT"
   },
   "outputs": [],
   "source": [
    "# quantitative_features_list[:-1] as the last column is SalePrice and we want to keep it\n",
    "categorical_features = [a for a in quantitative_features_list[:-1] + df.columns.tolist() if (a not in quantitative_features_list[:-1]) or (a not in df.columns.tolist())]\n",
    "df_categ = df[categorical_features]\n",
    "df_categ.head()"
   ]
  },
  {
   "cell_type": "markdown",
   "metadata": {
    "_cell_guid": "feeac5af-bdca-117e-7173-15410b37657d",
    "id": "B0bxog2OM5oi"
   },
   "source": [
    "And don't forget the non-numerical features"
   ]
  },
  {
   "cell_type": "code",
   "execution_count": null,
   "metadata": {
    "_cell_guid": "8fd34460-1a38-c1c1-a374-e3dbd401cf08",
    "id": "lwGcVgG6M5ol"
   },
   "outputs": [],
   "source": [
    "df_not_num = df_categ.select_dtypes(include = ['O'])\n",
    "print('There is {} non numerical features including:\\n{}'.format(len(df_not_num.columns), df_not_num.columns.tolist()))"
   ]
  },
  {
   "cell_type": "markdown",
   "metadata": {
    "_cell_guid": "4b559a58-eba5-681a-80f7-35d1fcefe980",
    "id": "pFvFBUl4M5o6"
   },
   "source": [
    "Now let's plot some of them"
   ]
  },
  {
   "cell_type": "code",
   "execution_count": null,
   "metadata": {
    "_cell_guid": "a1feceb8-1f77-7ba8-a2bc-1dd5a04c7dd5",
    "id": "YtbsL8qGM5o8"
   },
   "outputs": [],
   "source": [
    "plt.figure(figsize = (10, 6))\n",
    "ax = sns.boxplot(x='BsmtExposure', y='SalePrice', data=df_categ)\n",
    "tmp = plt.setp(ax.artists, alpha=.5, linewidth=2, edgecolor=\"k\")\n",
    "tmp = plt.xticks(rotation=45)"
   ]
  },
  {
   "cell_type": "code",
   "execution_count": null,
   "metadata": {
    "_cell_guid": "249bdbcd-7bba-7c5e-abf4-e3ca50ea1684",
    "id": "RZuXctg3M5pJ"
   },
   "outputs": [],
   "source": [
    "plt.figure(figsize = (12, 6))\n",
    "ax = sns.boxplot(x='SaleCondition', y='SalePrice', data=df_categ)\n",
    "tmp =  plt.setp(ax.artists, alpha=.5, linewidth=2, edgecolor=\"k\")\n",
    "tmp = plt.xticks(rotation=45)"
   ]
  },
  {
   "cell_type": "markdown",
   "metadata": {
    "_cell_guid": "9c365d5e-6482-8335-621c-bc2ca5fb028f",
    "id": "X8_qgWyEM5pU"
   },
   "source": [
    "And finally let's look at their distribution"
   ]
  },
  {
   "cell_type": "code",
   "execution_count": null,
   "metadata": {
    "_cell_guid": "b8ee8799-eed4-4f78-c643-f12e5ac1732f",
    "id": "EnaGbMYXM5pW"
   },
   "outputs": [],
   "source": [
    "fig, axes = plt.subplots(round(len(df_not_num.columns) / 3), 3, figsize=(12, 30))\n",
    "\n",
    "for i, ax in enumerate(fig.axes):\n",
    "    if i < len(df_not_num.columns):\n",
    "        ax.set_xticks(ax.get_xticks());\n",
    "        ax.set_xticklabels(ax.xaxis.get_majorticklabels(), rotation=45);\n",
    "        sns.countplot(x=df_not_num.columns[i], alpha=0.7, data=df_not_num, ax=ax);\n",
    "\n",
    "fig.tight_layout()"
   ]
  },
  {
   "cell_type": "markdown",
   "metadata": {
    "_cell_guid": "dc445587-8f9e-1901-3817-f83077286e4d",
    "id": "QAVqp4vxM5pj"
   },
   "source": [
    "<font color='chocolate'>We can see that some categories are predominant for some features such as `Utilities`, `Heating`, `GarageCond`, `Functional`... These features may not be relevant for our predictive model</font>"
   ]
  },
  {
   "cell_type": "code",
   "execution_count": null,
   "metadata": {
    "id": "yV0AdPMDrXzz"
   },
   "outputs": [],
   "source": []
  }
 ],
 "metadata": {
  "_change_revision": 2,
  "_is_fork": false,
  "colab": {
   "provenance": []
  },
  "kernelspec": {
   "display_name": "Python 3 (ipykernel)",
   "language": "python",
   "name": "python3"
  },
  "language_info": {
   "codemirror_mode": {
    "name": "ipython",
    "version": 3
   },
   "file_extension": ".py",
   "mimetype": "text/x-python",
   "name": "python",
   "nbconvert_exporter": "python",
   "pygments_lexer": "ipython3",
   "version": "3.10.10"
  }
 },
 "nbformat": 4,
 "nbformat_minor": 4
}
